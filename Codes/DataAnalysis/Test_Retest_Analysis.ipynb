{
 "cells": [
  {
   "cell_type": "markdown",
   "id": "9bcc345f-6aa8-45f8-9a00-4dbbbe24e297",
   "metadata": {},
   "source": [
    "# Standard Preamble"
   ]
  },
  {
   "cell_type": "code",
   "execution_count": 172,
   "id": "a9e44439-0d9e-4f33-ab5a-6132cade750f",
   "metadata": {},
   "outputs": [],
   "source": [
    "import numpy as np\n",
    "import matplotlib.pyplot as plt\n",
    "from scipy import stats\n",
    "import scipy\n",
    "import scipy.io as sio\n",
    "import scipy.optimize as opt\n",
    "import os\n",
    "import glob\n",
    "from scipy.stats import norm\n",
    "import math\n",
    "from scipy.stats import expon\n",
    "# import arviz as az\n",
    "# import pymc3 as pm\n",
    "import pandas as pd\n",
    "from datetime import datetime, timedelta\n",
    "plt.rcParams.update({'font.size': 16})"
   ]
  },
  {
   "cell_type": "markdown",
   "id": "b81ec2e5-d2a9-459d-bcb9-0a1d4f93ac67",
   "metadata": {},
   "source": [
    "# Define functions"
   ]
  },
  {
   "cell_type": "code",
   "execution_count": null,
   "id": "edd1d825-e2c0-4908-8482-54c14271aa44",
   "metadata": {},
   "outputs": [],
   "source": [
    "# want to create a load data function that combines dataframes and overwrites when necessary"
   ]
  },
  {
   "cell_type": "code",
   "execution_count": 30,
   "id": "ae98b3a2-b5df-4681-9526-2346216c62b6",
   "metadata": {},
   "outputs": [],
   "source": [
    "def UniqueVals(stims, responses):\n",
    "    \n",
    "    \"\"\"\n",
    "    Takes stimulus values and responses and calculates N (total number of trials) and K (number of responses of interest) \n",
    "    for each unique stimulus values\n",
    "    \n",
    "    Inputs:\n",
    "    stims = vector of all stimuli\n",
    "    responses = vector of all responses\n",
    "    \n",
    "    Outputs:\n",
    "    unique_stims = vector of the unrepeated stimulus locations\n",
    "    Nstims = the number of times each unique stim was visited (vector)\n",
    "    Kleft = the number of times the response was left at each stim location\n",
    "    \"\"\"\n",
    "    \n",
    "    unique_stims, stim_idx = np.unique(stims, return_index=True)\n",
    "    unique_stims = stims[np.sort(stim_idx)]\n",
    "    Nstims = []\n",
    "    Kleft = []\n",
    "    for u in unique_stims:\n",
    "        stim_idx = np.argwhere(u==stims)\n",
    "        Nstims = np.append(Nstims,len(stim_idx))\n",
    "        Kleft = np.append(Kleft, np.sum(responses[stim_idx]))\n",
    "        \n",
    "    return unique_stims, Nstims, Kleft"
   ]
  },
  {
   "cell_type": "code",
   "execution_count": 173,
   "id": "070518e5-9d1a-41c4-a4c5-cc06ec108f8b",
   "metadata": {},
   "outputs": [],
   "source": [
    "def nloglik(params,X,N,K):\n",
    "    '''\n",
    "    This function returns the negative log likelihood of the parameters mu and sigma \n",
    "    for a data set \n",
    "    X = stimuli (vector)\n",
    "    N = number of trials at each X \n",
    "    K = Number of trials with the response of interest\n",
    "    '''   \n",
    "    alpha=params[0]\n",
    "    beta=params[1]\n",
    "    \n",
    "    psi = norm.cdf(X,alpha,beta)       \n",
    "    ll = np.sum(K * np.log(psi) + ((N - K) * np.log(1-psi)))\n",
    "\n",
    "    nll = -ll\n",
    "    \n",
    "    return nll"
   ]
  },
  {
   "cell_type": "code",
   "execution_count": 184,
   "id": "e31c2564-1d7e-4b9b-9620-324ed8fab6e9",
   "metadata": {},
   "outputs": [],
   "source": [
    "def psiBIC(params, data):\n",
    "    \"\"\"\n",
    "    Definition: calculates the bayesian information criteria (BIC) for a psychometric function \n",
    "    \n",
    "    inputs:\n",
    "    params = vector of the parameters for the psychometric function (alpha, beta), in this case, it only takes two arguments\n",
    "    data = a list of size 3 containing \n",
    "        1) N = the number of trials at each stimulus location\n",
    "        2) K = the number of 'left' responses at each stimulus location\n",
    "        3) x = the stimulus locations\n",
    "    \n",
    "    outputs:\n",
    "    BIC\n",
    "    \"\"\"   \n",
    "    #Organize the data\n",
    "    alpha = params[0]\n",
    "    beta = params[1]\n",
    "    N = data[0]\n",
    "    K = data[1]\n",
    "    x = data[2]\n",
    "    \n",
    "    #Calcualte the log likelihood    \n",
    "    psi = norm.cdf(x,alpha,beta)\n",
    "    ll = np.nansum(K * np.log(psi) + ((N - K) * np.log(1-psi)))\n",
    "    \n",
    "    #Calculate BIC\n",
    "    BIC = -2 * ll + np.log(len(N)) * len(params)\n",
    "    \n",
    "    return BIC"
   ]
  },
  {
   "cell_type": "markdown",
   "id": "5c087600-ff0a-42ad-affa-9986757fca44",
   "metadata": {},
   "source": [
    "# Load the data"
   ]
  },
  {
   "cell_type": "code",
   "execution_count": 121,
   "id": "d07b92d8-4bfe-49d5-841f-8589afe88c43",
   "metadata": {},
   "outputs": [],
   "source": [
    "#Change the directory\n",
    "os.chdir('C:\\\\Users\\\\Jonathan\\\\Documents\\\\GitHub\\\\Split-Belt-AFC-Reliability\\\\Data\\\\TestRetest_PSI')\n",
    "\n",
    "#Load the data and combine\n",
    "file_names = glob.glob(\"*.csv\")\n",
    "# combined_data = [pd.read_csv(i, parse_dates=['StartTime','TestLen']) for i in file_names]\n",
    "combined_data = [pd.read_csv(i, parse_dates=['StartTime']) for i in file_names]\n",
    "\n",
    "#Create data frame\n",
    "DF = pd.concat(combined_data)\n",
    "\n",
    "#Create groupby objects for easy indexing\n",
    "grp_tests = DF.groupby(['SID','Test'])\n",
    "grp_subjs = DF.groupby(['SID'])"
   ]
  },
  {
   "cell_type": "markdown",
   "id": "65ff81ce-3366-4db8-aa78-26642d2ee059",
   "metadata": {},
   "source": [
    "# Confirmatory Analysis"
   ]
  },
  {
   "cell_type": "markdown",
   "id": "eebfdfef-c137-4185-baef-1dc8f9460ecf",
   "metadata": {},
   "source": [
    "## Are start positions close to equal?"
   ]
  },
  {
   "cell_type": "code",
   "execution_count": 36,
   "id": "d08a2bbd-f0e8-4fb4-a69b-2b5d0443390c",
   "metadata": {},
   "outputs": [
    {
     "name": "stdout",
     "output_type": "stream",
     "text": [
      "PSItest_28a\n",
      "50.7% of trials started above the stimulus position\n",
      "PSItest_28b\n",
      "50.7% of trials started above the stimulus position\n"
     ]
    }
   ],
   "source": [
    "for name, test in grp_tests:\n",
    "    \n",
    "    #Calculate the percept of start positions that started above\n",
    "    started_above = sum(test.AllStarts > test.AllStims)\n",
    "    above_prct = round((started_above/len(test))*100,1)\n",
    "\n",
    "    #Print the results\n",
    "    print(name[0]+name[1])\n",
    "    print(str(above_prct) + '% of trials started above the stimulus position')"
   ]
  },
  {
   "cell_type": "markdown",
   "id": "f7e96994-2892-4364-8224-50ab1829a423",
   "metadata": {},
   "source": [
    "## Are the start and end speeds randomized?"
   ]
  },
  {
   "cell_type": "code",
   "execution_count": 152,
   "id": "dd566e7e-fbf8-4ceb-b03e-8758648f08ac",
   "metadata": {},
   "outputs": [
    {
     "data": {
      "image/png": "[encoded data removed]",
      "text/plain": [
       "<Figure size 720x360 with 2 Axes>"
      ]
     },
     "metadata": {
      "needs_background": "light"
     },
     "output_type": "display_data"
    }
   ],
   "source": [
    "#Loop through all subejcts\n",
    "for name, test in grp_subjs:\n",
    "    \n",
    "    #Index the different tests\n",
    "    Test_a = test[test.Test=='a']\n",
    "    Test_b = test[test.Test=='b']\n",
    "    \n",
    "    #Plot\n",
    "    fig, ax = plt.subplots(1,2, figsize=(10,5),tight_layout=True)\n",
    "    ax[0].plot(Test_a.StartSpeeds, Test_b.StimSpeeds,'o')\n",
    "    ax[0].set(ylabel='Speed to Stimulus (mm/sec)', xlabel='Speed to Start Loc (mm/sec)', title='Test A')\n",
    "    ax[1].plot(Test_b.StartSpeeds, Test_b.StimSpeeds,'o')\n",
    "    ax[1].set(xlabel='Speed to Start Loc (mm/sec)', title='Test B')    \n",
    "    fig.suptitle(name) \n",
    "    plt.show()    "
   ]
  },
  {
   "cell_type": "markdown",
   "id": "b608ef80-0081-46d4-ba53-e44cd7b4bfe4",
   "metadata": {},
   "source": [
    "## How much time between the tests, and how long is each test? "
   ]
  },
  {
   "cell_type": "code",
   "execution_count": 151,
   "id": "8c03d19f-fdc1-4cfb-bd23-194ddb6d8a91",
   "metadata": {},
   "outputs": [
    {
     "data": {
      "image/png": "[encoded data removed]",
      "text/plain": [
       "<Figure size 1080x360 with 3 Axes>"
      ]
     },
     "metadata": {
      "needs_background": "light"
     },
     "output_type": "display_data"
    }
   ],
   "source": [
    "#Loop through all subejcts\n",
    "all_td, a_len, b_len = [], [], []\n",
    "for name, test in grp_subjs:\n",
    "    \n",
    "    #Index the different tests\n",
    "    test_a = test[test.Test=='a']\n",
    "    test_b = test[test.Test=='b']\n",
    "    \n",
    "    #calculate the length of each test\n",
    "    a_len = np.append(a_len, test_a.TestLen[0]/60)\n",
    "    b_len = np.append(b_len, test_b.TestLen[0]/60)\n",
    "\n",
    "    #Calculate difference between tests and save\n",
    "    test_a_end = test_a.StartTime[0] + timedelta(seconds=test_a.TestLen[0])\n",
    "    time_diff = test_b.StartTime[0] - test_a_end\n",
    "    all_td = np.append(all_td, time_diff.seconds/60)\n",
    "    \n",
    "    #Plot\n",
    "    fig, ax = plt.subplots(1,3,figsize=(15,5),tight_layout=True)\n",
    "    ax[0].bar(0,np.mean(a_len),color='c')\n",
    "    ax[0].plot(0,a_len,'o')\n",
    "    ax[0].set(xlim=(-1,1), ylim=(0,30), ylabel='minutes', title='Test A Length',xticks=[])\n",
    "    \n",
    "    ax[1].bar(0,np.mean(b_len),color='c')\n",
    "    ax[1].plot(0,b_len,'o')\n",
    "    ax[1].set(xlim=(-1,1), ylim=(0,30), title='Test B Length',xticks=[])\n",
    "    \n",
    "    ax[2].bar(0,np.mean(all_td),color='c')\n",
    "    ax[2].plot(0,all_td,'o')\n",
    "    ax[2].set(xlim=(-1,1), ylim=(0,30), title='Time between tests',xticks=[])\n",
    "    fig.suptitle(name) \n",
    "    plt.show()"
   ]
  },
  {
   "cell_type": "markdown",
   "id": "c5d21602-a1a4-425c-b900-36f15c92d794",
   "metadata": {},
   "source": [
    "## Are the pre-set simtuli appropriately distributed? DF"
   ]
  },
  {
   "cell_type": "code",
   "execution_count": 150,
   "id": "6a628313-d053-4149-9525-b2f0cf00cc31",
   "metadata": {},
   "outputs": [
    {
     "data": {
      "image/png": "[encoded data removed]",
      "text/plain": [
       "<Figure size 1440x144 with 1 Axes>"
      ]
     },
     "metadata": {
      "needs_background": "light"
     },
     "output_type": "display_data"
    },
    {
     "name": "stdout",
     "output_type": "stream",
     "text": [
      "Largest difference between pre-selected stim =  8\n"
     ]
    },
    {
     "data": {
      "image/png": "[encoded data removed]",
      "text/plain": [
       "<Figure size 1440x144 with 1 Axes>"
      ]
     },
     "metadata": {
      "needs_background": "light"
     },
     "output_type": "display_data"
    },
    {
     "name": "stdout",
     "output_type": "stream",
     "text": [
      "Largest difference between pre-selected stim =  6\n"
     ]
    }
   ],
   "source": [
    "for name, test in grp_tests:\n",
    "    \n",
    "    #Plot \n",
    "    fig, ax = plt.subplots(figsize=(20,2))\n",
    "    ax.stem(test.Trial_num,test.SelectedStims)\n",
    "    ax.set(xlim=(1,75), yticks=[], xticks=np.arange(0,75,5),title='Pre-selected stimuli - '+name[0]+name[1],xlabel='Trial num')\n",
    "    plt.show()\n",
    "    \n",
    "    #Find the max difference between pre-selected stims\n",
    "    max_diff = np.max(np.diff(test.Trial_num[test.SelectedStims==1]))\n",
    "    print('Largest difference between pre-selected stim = ', max_diff) \n"
   ]
  },
  {
   "cell_type": "markdown",
   "id": "3944b0b3-fb37-4459-b0dc-d91dc537db0c",
   "metadata": {},
   "source": [
    "# Data Analysis "
   ]
  },
  {
   "cell_type": "markdown",
   "id": "5543668c-2ff0-4f20-8377-9a898afaca2c",
   "metadata": {},
   "source": [
    "## Plot the data for each test along with the psi function estimated and fit post-hoc"
   ]
  },
  {
   "cell_type": "code",
   "execution_count": 187,
   "id": "a946f50a-bb29-4562-8641-4149c6fb9aa8",
   "metadata": {},
   "outputs": [
    {
     "name": "stderr",
     "output_type": "stream",
     "text": [
      "C:\\Users\\Jonathan\\AppData\\Local\\Temp/ipykernel_12440/3348825091.py:13: RuntimeWarning: divide by zero encountered in log\n",
      "  ll = np.sum(K * np.log(psi) + ((N - K) * np.log(1-psi)))\n",
      "C:\\Users\\Jonathan\\AppData\\Local\\Temp/ipykernel_12440/3348825091.py:13: RuntimeWarning: invalid value encountered in multiply\n",
      "  ll = np.sum(K * np.log(psi) + ((N - K) * np.log(1-psi)))\n"
     ]
    },
    {
     "name": "stdout",
     "output_type": "stream",
     "text": [
      "Warning: Maximum number of function evaluations has been exceeded.\n"
     ]
    },
    {
     "name": "stderr",
     "output_type": "stream",
     "text": [
      "C:\\Users\\Jonathan\\AppData\\Local\\Temp/ipykernel_12440/3097947520.py:24: RuntimeWarning: divide by zero encountered in log\n",
      "  ll = np.nansum(K * np.log(psi) + ((N - K) * np.log(1-psi)))\n",
      "C:\\Users\\Jonathan\\AppData\\Local\\Temp/ipykernel_12440/3097947520.py:24: RuntimeWarning: invalid value encountered in multiply\n",
      "  ll = np.nansum(K * np.log(psi) + ((N - K) * np.log(1-psi)))\n"
     ]
    },
    {
     "ename": "OverflowError",
     "evalue": "cannot convert float infinity to integer",
     "output_type": "error",
     "traceback": [
      "\u001b[1;31m---------------------------------------------------------------------------\u001b[0m",
      "\u001b[1;31mOverflowError\u001b[0m                             Traceback (most recent call last)",
      "\u001b[1;32m~\\AppData\\Local\\Temp/ipykernel_12440/672031248.py\u001b[0m in \u001b[0;36m<module>\u001b[1;34m\u001b[0m\n\u001b[0;32m     30\u001b[0m         \u001b[1;31m#Plot\u001b[0m\u001b[1;33m\u001b[0m\u001b[1;33m\u001b[0m\u001b[0m\n\u001b[0;32m     31\u001b[0m         \u001b[0max\u001b[0m\u001b[1;33m[\u001b[0m\u001b[0mi\u001b[0m\u001b[1;33m]\u001b[0m\u001b[1;33m.\u001b[0m\u001b[0mplot\u001b[0m\u001b[1;33m(\u001b[0m\u001b[0munique_stims\u001b[0m\u001b[1;33m,\u001b[0m \u001b[0mKleft\u001b[0m\u001b[1;33m/\u001b[0m\u001b[0mNstims\u001b[0m\u001b[1;33m,\u001b[0m \u001b[1;34m'bo'\u001b[0m\u001b[1;33m,\u001b[0m \u001b[0mlabel\u001b[0m\u001b[1;33m=\u001b[0m\u001b[1;34m'Response data'\u001b[0m\u001b[1;33m)\u001b[0m\u001b[1;33m\u001b[0m\u001b[1;33m\u001b[0m\u001b[0m\n\u001b[1;32m---> 32\u001b[1;33m         \u001b[0max\u001b[0m\u001b[1;33m[\u001b[0m\u001b[0mi\u001b[0m\u001b[1;33m]\u001b[0m\u001b[1;33m.\u001b[0m\u001b[0mplot\u001b[0m\u001b[1;33m(\u001b[0m\u001b[0mx\u001b[0m\u001b[1;33m,\u001b[0m \u001b[0mpsi_est\u001b[0m\u001b[1;33m,\u001b[0m \u001b[1;34m'b'\u001b[0m\u001b[1;33m,\u001b[0m \u001b[0mlabel\u001b[0m\u001b[1;33m=\u001b[0m\u001b[1;34m'Psi algorithm est. (BIC='\u001b[0m\u001b[1;33m+\u001b[0m\u001b[0mstr\u001b[0m\u001b[1;33m(\u001b[0m\u001b[0mround\u001b[0m\u001b[1;33m(\u001b[0m\u001b[0mBIC_est\u001b[0m\u001b[1;33m)\u001b[0m\u001b[1;33m)\u001b[0m\u001b[1;33m+\u001b[0m\u001b[1;34m')'\u001b[0m\u001b[1;33m,\u001b[0m \u001b[0malpha\u001b[0m\u001b[1;33m=\u001b[0m\u001b[1;36m0.5\u001b[0m\u001b[1;33m)\u001b[0m\u001b[1;33m\u001b[0m\u001b[1;33m\u001b[0m\u001b[0m\n\u001b[0m\u001b[0;32m     33\u001b[0m         \u001b[0max\u001b[0m\u001b[1;33m[\u001b[0m\u001b[0mi\u001b[0m\u001b[1;33m]\u001b[0m\u001b[1;33m.\u001b[0m\u001b[0mplot\u001b[0m\u001b[1;33m(\u001b[0m\u001b[0mx\u001b[0m\u001b[1;33m,\u001b[0m \u001b[0mpsi_fit\u001b[0m\u001b[1;33m,\u001b[0m \u001b[1;34m'k--'\u001b[0m\u001b[1;33m,\u001b[0m \u001b[0mlabel\u001b[0m\u001b[1;33m=\u001b[0m\u001b[1;34m'Fitted Psi (BIC='\u001b[0m\u001b[1;33m+\u001b[0m\u001b[0mstr\u001b[0m\u001b[1;33m(\u001b[0m\u001b[0mround\u001b[0m\u001b[1;33m(\u001b[0m\u001b[0mBIC_fit\u001b[0m\u001b[1;33m)\u001b[0m\u001b[1;33m)\u001b[0m\u001b[1;33m+\u001b[0m\u001b[1;34m')'\u001b[0m\u001b[1;33m)\u001b[0m\u001b[1;33m\u001b[0m\u001b[1;33m\u001b[0m\u001b[0m\n\u001b[0;32m     34\u001b[0m         \u001b[0max\u001b[0m\u001b[1;33m[\u001b[0m\u001b[0mi\u001b[0m\u001b[1;33m]\u001b[0m\u001b[1;33m.\u001b[0m\u001b[0mset\u001b[0m\u001b[1;33m(\u001b[0m\u001b[0mtitle\u001b[0m\u001b[1;33m=\u001b[0m\u001b[1;34m'Test '\u001b[0m \u001b[1;33m+\u001b[0m \u001b[0mtest_id_idx\u001b[0m\u001b[1;33m)\u001b[0m\u001b[1;33m\u001b[0m\u001b[1;33m\u001b[0m\u001b[0m\n",
      "\u001b[1;31mOverflowError\u001b[0m: cannot convert float infinity to integer"
     ]
    },
    {
     "data": {
      "image/png": "[encoded data removed]",
      "text/plain": [
       "<Figure size 1080x360 with 2 Axes>"
      ]
     },
     "metadata": {
      "needs_background": "light"
     },
     "output_type": "display_data"
    }
   ],
   "source": [
    "unique_tests = ['a','b']\n",
    "\n",
    "for name, test in grp_subjs:\n",
    "    \n",
    "    fig, ax = plt.subplots(1,2,figsize=(15,5),tight_layout=True)\n",
    "    for i, test_id_idx in enumerate(unique_tests):\n",
    "        \n",
    "        #Index the test\n",
    "        current_test = test[test.Test==test_id_idx]\n",
    "\n",
    "        #index all the stim positions\n",
    "        BslDiff = round(current_test.BslDiff[0])\n",
    "        x = np.unique(current_test.AllStims+BslDiff)\n",
    "        \n",
    "        #Calculate the PSI algorithm\n",
    "        psi_est = norm.cdf(x,current_test.Alpha_EV.values[-1]+BslDiff,current_test.Beta_EV.values[-1])\n",
    "\n",
    "        #Calculate unique values of the stims\n",
    "        unique_stims, Nstims, Kleft = UniqueVals(current_test.AllStims.values+BslDiff, current_test.BinaryResponses.values)\n",
    "\n",
    "        #Fit the psychometric function to the data\n",
    "        params = opt.fmin(nloglik, x0=[np.random.rand(), np.random.rand()],\n",
    "                          args=(unique_stims,Nstims,Kleft), disp=1, full_output=False, maxfun=1e6, xtol=1e-6)\n",
    "        psi_fit = norm.cdf(x, params[0], params[1])\n",
    "        \n",
    "        #Calculate BIC\n",
    "        BIC_est = psiBIC(params, [Nstims, Kleft, x])\n",
    "        BIC_fit = psiBIC(params, [Nstims, Kleft, x])\n",
    "    \n",
    "        #Plot\n",
    "        ax[i].plot(unique_stims, Kleft/Nstims, 'bo', label='Response data')\n",
    "        ax[i].plot(x, psi_est, 'b', label='Psi algorithm est. (BIC='+str(round(BIC_est))+')', alpha=0.5)\n",
    "        ax[i].plot(x, psi_fit, 'k--', label='Fitted Psi (BIC='+str(round(BIC_fit))+')')\n",
    "        ax[i].set(title='Test ' + test_id_idx)\n",
    "        ax[i].legend()\n",
    "        \n",
    "    fig.suptitle(name) \n",
    "    plt.show()"
   ]
  },
  {
   "cell_type": "code",
   "execution_count": null,
   "id": "b9eaa26c-f1c9-4260-8913-23431e836c35",
   "metadata": {},
   "outputs": [],
   "source": []
  }
 ],
 "metadata": {
  "kernelspec": {
   "display_name": "Python 3 (ipykernel)",
   "language": "python",
   "name": "python3"
  },
  "language_info": {
   "codemirror_mode": {
    "name": "ipython",
    "version": 3
   },
   "file_extension": ".py",
   "mimetype": "text/x-python",
   "name": "python",
   "nbconvert_exporter": "python",
   "pygments_lexer": "ipython3",
   "version": "3.9.7"
  }
 },
 "nbformat": 4,
 "nbformat_minor": 5
}
