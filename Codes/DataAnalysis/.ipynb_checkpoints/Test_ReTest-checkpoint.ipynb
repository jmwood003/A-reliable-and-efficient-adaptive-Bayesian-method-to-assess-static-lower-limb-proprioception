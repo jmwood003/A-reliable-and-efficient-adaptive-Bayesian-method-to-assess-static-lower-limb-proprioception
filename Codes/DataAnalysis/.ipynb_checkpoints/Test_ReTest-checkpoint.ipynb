{
 "cells": [
  {
   "cell_type": "markdown",
   "metadata": {},
   "source": [
    "# Test Re-test analysis"
   ]
  },
  {
   "cell_type": "code",
   "execution_count": 1,
   "metadata": {},
   "outputs": [],
   "source": [
    "#Import python notebooks\n",
    "import numpy as np\n",
    "import matplotlib.pyplot as plt\n",
    "from scipy import stats\n",
    "import scipy\n",
    "import scipy.io as sio\n",
    "import os\n",
    "import glob\n",
    "from scipy.stats import norm\n",
    "import math\n",
    "# import arviz as az\n",
    "# import pymc3 as pm\n",
    "import pandas as pd\n",
    "from datetime import datetime, timedelta\n",
    "plt.rcParams.update({'font.size': 16})"
   ]
  },
  {
   "cell_type": "markdown",
   "metadata": {},
   "source": [
    "## Load the data"
   ]
  },
  {
   "cell_type": "code",
   "execution_count": 3,
   "metadata": {},
   "outputs": [
    {
     "name": "stdout",
     "output_type": "stream",
     "text": [
      "Files:\n",
      "PSItest_08a_data.mat\n",
      "PSItest_08b_data.mat\n"
     ]
    }
   ],
   "source": [
    "#Change the directory\n",
    "os.chdir('C:\\\\Users\\\\Jonathan\\\\Documents\\\\GitHub\\\\Split-Belt-AFC-Reliability\\\\Data\\\\TestRetest_PSI')\n",
    "\n",
    "#Load the data\n",
    "File_names = glob.glob(\"*.mat\")\n",
    "\n",
    "print('Files:')\n",
    "\n",
    "Combined_data = []\n",
    "for i, f in enumerate(File_names):\n",
    "    Current_Subject = f[:-9]\n",
    "    print(f)\n",
    "    \n",
    "    D = sio.loadmat(f)\n",
    "    \n",
    "    #Change these to 1d instead of 2\n",
    "    D['AllResponses'] = D['AllResponses'][0]\n",
    "    D['AllStarts'] = D['AllStarts'][0]\n",
    "    D['AllStims'] = D['AllStims'][0]\n",
    "    D['BinaryResponses'] = D['BinaryResponses'][0]\n",
    "    D['alpha_EV'] = D['alpha_EV'][0]\n",
    "    D['beta_EV'] = D['beta_EV'][0]\n",
    "\n",
    "    #Trial Length\n",
    "    Ntrials = len(D['BinaryResponses'])\n",
    "    \n",
    "    #Baseline difference\n",
    "    D['BslDiff'] = np.ones_like(D['BinaryResponses'])*D['BslDiff'][0]\n",
    "    #Subject ID and test number\n",
    "    D['SID'] = [Current_Subject[:-1]]*Ntrials\n",
    "    D['Test'] = [Current_Subject[-1]]*Ntrials\n",
    "    \n",
    "    #Start and end date time\n",
    "    Test_Start = D.pop('PhaseStart')\n",
    "    PhaseStart = datetime.strptime(Test_Start[0], \"%d-%b-%Y %H:%M:%S\")\n",
    "    Test_Length = timedelta(seconds=D.pop('elapsedTime')[0][0])\n",
    "    PhaseEnd = PhaseStart+Test_Length\n",
    "    D['StartTime'] = [PhaseStart]*Ntrials\n",
    "    D['EndTime'] = [PhaseEnd]*Ntrials\n",
    "    \n",
    "    #Delete the unnecessary keys\n",
    "    del D['__header__'], D['__version__'], D['__globals__']\n",
    "    \n",
    "    #Create dataframe \n",
    "    currentDF = pd.DataFrame.from_dict(D)\n",
    "    Combined_data.append(currentDF)\n",
    "DF = pd.concat(Combined_data)"
   ]
  },
  {
   "cell_type": "markdown",
   "metadata": {},
   "source": [
    "## Index Start positions and Test length"
   ]
  },
  {
   "cell_type": "code",
   "execution_count": 22,
   "metadata": {},
   "outputs": [
    {
     "name": "stdout",
     "output_type": "stream",
     "text": [
      "PSItest_08 a - Start Positions Equal (Top-Down= 25 ; Bottom-Up= 25 )\n",
      "PSItest_08 b - Start Positions Equal (Top-Down= 25 ; Bottom-Up= 25 )\n"
     ]
    },
    {
     "data": {
      "image/png": "[encoded data removed]",
      "text/plain": [
       "<Figure size 216x288 with 1 Axes>"
      ]
     },
     "metadata": {
      "needs_background": "light"
     },
     "output_type": "display_data"
    }
   ],
   "source": [
    "SIDs = pd.unique(DF.SID)\n",
    "TNs = pd.unique(DF.Test)\n",
    "Time = []\n",
    "for i in range(len(SIDs)):\n",
    "    \n",
    "    T1 = DF.EndTime[(DF.SID==SIDs[i]) & (DF.Test=='a')][0] - DF.StartTime[(DF.SID==SIDs[i]) & (DF.Test=='a')][0]\n",
    "    T2 = DF.EndTime[(DF.SID==SIDs[i]) & (DF.Test=='b')][0] - DF.StartTime[(DF.SID==SIDs[i]) & (DF.Test=='b')][0]\n",
    "    Time.append([T1.total_seconds(), T2.total_seconds()])\n",
    "\n",
    "    for t in range(len(TNs)):\n",
    "        \n",
    "        Starts = DF.AllStarts[(DF.SID==SIDs[i]) & (DF.Test==TNs[t])]\n",
    "        Stims = DF.AllStims[(DF.SID==SIDs[i]) & (DF.Test==TNs[t])]\n",
    "                \n",
    "        TD = Starts > Stims \n",
    "        BU = Starts < Stims\n",
    "        if sum(TD) == sum(BU):\n",
    "            print(SIDs[i],  TNs[t], '- Start Positions Equal (Top-Down=', str(sum(TD)), '; Bottom-Up=', str(sum(BU)), ')')\n",
    "        elif sum(TD) != sum(BU):\n",
    "            print(SIDs[i],  TNs[t], '- Start Positions Unequal (Top-Down=', str(sum(TD)), '; Bottom-Up=', str(sum(BU)), ')')\n",
    "    \n",
    "Time = np.array(Time)    \n",
    "Time = Time/60\n",
    "\n",
    "#Plot\n",
    "plt.figure(figsize=(3,4))\n",
    "plt.plot([np.ones(len(Time)), np.ones(len(Time))*2], [Time[:,0], Time[:,1]] ,'k-')\n",
    "plt.plot([1, 2],[np.mean(Time[:,0]), np.mean(Time[:,1])],'r--',lw=3)\n",
    "plt.xlim(0.5, 2.5)\n",
    "plt.ylim(2, 15)\n",
    "plt.xticks([1,2],['T1', 'T2'])\n",
    "plt.title('Test Time')\n",
    "plt.ylabel('Minutes')\n",
    "plt.show()"
   ]
  },
  {
   "cell_type": "markdown",
   "metadata": {},
   "source": [
    "## Visualize each trial"
   ]
  },
  {
   "cell_type": "code",
   "execution_count": 30,
   "metadata": {},
   "outputs": [
    {
     "data": {
      "image/png": "[encoded data removed]",
      "text/plain": [
       "<Figure size 864x360 with 4 Axes>"
      ]
     },
     "metadata": {
      "needs_background": "light"
     },
     "output_type": "display_data"
    }
   ],
   "source": [
    "SIDs = pd.unique(DF.SID)\n",
    "TNs = pd.unique(DF.Test)\n",
    "\n",
    "for i in range(len(SIDs)):\n",
    "    fig, ax = plt.subplots(2, 2, constrained_layout=True, figsize=(12,5))\n",
    "    \n",
    "    for t in range(len(TNs)):\n",
    "        BslDiff = round(DF.BslDiff[(DF.SID==SIDs[i]) & (DF.Test==TNs[t])].values[0])\n",
    "\n",
    "        Stims = DF.AllStims[(DF.SID==SIDs[i]) & (DF.Test==TNs[t])]+BslDiff\n",
    "        Starts = DF.AllStarts[(DF.SID==SIDs[i]) & (DF.Test==TNs[t])]+BslDiff\n",
    "        aEV = DF.alpha_EV[(DF.SID==SIDs[i]) & (DF.Test==TNs[t])]+BslDiff\n",
    "        bEV = DF.beta_EV[(DF.SID==SIDs[i]) & (DF.Test==TNs[t])]\n",
    "        \n",
    "        ax[0,t].plot(Stims,'ko-',label='Stims')\n",
    "        ax[0,t].plot(aEV,'bo-',label='Expected Value')\n",
    "        ax[0,t].plot(np.zeros(len(Stims)),'k-')\n",
    "        ax[0,t].set(ylim=(-50,50),ylabel='alpha',title='Test '+ TNs[t])\n",
    "        if t == 0:\n",
    "            ax[0,t].legend()\n",
    "        \n",
    "        ax[1,t].plot(bEV,'bo-')\n",
    "        ax[1,t].set(ylim=(0,50),ylabel='beta')\n",
    "    \n",
    "    fig.suptitle(SIDs[i])"
   ]
  },
  {
   "cell_type": "markdown",
   "metadata": {},
   "source": [
    "## Visually compare the two psychometric functions \n"
   ]
  },
  {
   "cell_type": "code",
   "execution_count": 45,
   "metadata": {},
   "outputs": [
    {
     "data": {
      "image/png": "[encoded data removed]",
      "text/plain": [
       "<Figure size 432x288 with 1 Axes>"
      ]
     },
     "metadata": {
      "needs_background": "light"
     },
     "output_type": "display_data"
    }
   ],
   "source": [
    "SIDs = pd.unique(DF.SID)\n",
    "x = np.linspace(-50,50,100) #X-axis \n",
    "\n",
    "#initialize for parameters\n",
    "alphas = []\n",
    "betas = []\n",
    "for i in range(len(SIDs)):\n",
    "    fig, ax = plt.subplots()\n",
    "\n",
    "    #Index baseline difference\n",
    "    BD_a = round(DF.BslDiff[(DF.SID==SIDs[i]) & (DF.Test=='a')].values[0])\n",
    "    BD_b = round(DF.BslDiff[(DF.SID==SIDs[i]) & (DF.Test=='b')].values[0])\n",
    "\n",
    "    #index estimates for test 1 and 2\n",
    "    aEV_a = DF.alpha_EV[(DF.SID==SIDs[i]) & (DF.Test=='a')].values[-1] + BD_a\n",
    "    bEV_a = DF.beta_EV[(DF.SID==SIDs[i]) & (DF.Test=='a')].values[-1]\n",
    "\n",
    "    aEV_b = DF.alpha_EV[(DF.SID==SIDs[i]) & (DF.Test=='b')].values[-1] + BD_b\n",
    "    bEV_b = DF.beta_EV[(DF.SID==SIDs[i]) & (DF.Test=='b')].values[-1]\n",
    "\n",
    "    #Store the estimates\n",
    "    alphas.append([aEV_a, aEV_b])\n",
    "    betas.append([bEV_a, bEV_b])\n",
    "    \n",
    "    #Calculate the psychometric functions\n",
    "    psi_a = norm.cdf(x,aEV_a,bEV_a)\n",
    "    psi_b = norm.cdf(x,aEV_b,bEV_b)\n",
    "\n",
    "    #Plot\n",
    "    ax.plot(x,psi_a,label='T1')\n",
    "    ax.plot(x,psi_b,label='T2')\n",
    "    ax.legend()\n",
    "    ax.set(title=SIDs[i],ylabel='p_left',xlabel='Stimulus')    \n",
    "    plt.show() \n",
    "    \n",
    "alphas = np.array(alphas)\n",
    "betas = np.array(betas)"
   ]
  },
  {
   "cell_type": "markdown",
   "metadata": {},
   "source": [
    "## Compare the parameters"
   ]
  },
  {
   "cell_type": "code",
   "execution_count": 38,
   "metadata": {},
   "outputs": [
    {
     "data": {
      "image/png": "[encoded data removed]",
      "text/plain": [
       "<Figure size 720x360 with 2 Axes>"
      ]
     },
     "metadata": {
      "needs_background": "light"
     },
     "output_type": "display_data"
    }
   ],
   "source": [
    "#Calculate CCC\n",
    "\n",
    "\n",
    "#Plot the parameters\n",
    "plt.figure(figsize=(10,5))\n",
    "plt.subplot(1,2,1)\n",
    "plt.plot(alphas[:,0],alphas[:,1],'o')\n",
    "plt.plot(x,x,'k')\n",
    "plt.title('Alphas')\n",
    "plt.xlabel('Test 1')\n",
    "plt.ylabel('Test 2')\n",
    "\n",
    "plt.subplot(1,2,2)\n",
    "plt.plot(betas[:,0],betas[:,1],'o')\n",
    "plt.plot(x,x,'k')\n",
    "plt.title('Betas')\n",
    "plt.ylim(0, 50)\n",
    "plt.xlim(0, 50)\n",
    "\n",
    "plt.tight_layout()\n",
    "plt.show()\n"
   ]
  },
  {
   "cell_type": "markdown",
   "metadata": {},
   "source": [
    "## Fit the actual data as a spot check"
   ]
  },
  {
   "cell_type": "code",
   "execution_count": 47,
   "metadata": {},
   "outputs": [
    {
     "data": {
      "text/html": [
       "<div>\n",
       "<style scoped>\n",
       "    .dataframe tbody tr th:only-of-type {\n",
       "        vertical-align: middle;\n",
       "    }\n",
       "\n",
       "    .dataframe tbody tr th {\n",
       "        vertical-align: top;\n",
       "    }\n",
       "\n",
       "    .dataframe thead th {\n",
       "        text-align: right;\n",
       "    }\n",
       "</style>\n",
       "<table border=\"1\" class=\"dataframe\">\n",
       "  <thead>\n",
       "    <tr style=\"text-align: right;\">\n",
       "      <th></th>\n",
       "      <th>AllResponses</th>\n",
       "      <th>AllStarts</th>\n",
       "      <th>AllStims</th>\n",
       "      <th>BinaryResponses</th>\n",
       "      <th>BslDiff</th>\n",
       "      <th>alpha_EV</th>\n",
       "      <th>beta_EV</th>\n",
       "      <th>SID</th>\n",
       "      <th>Test</th>\n",
       "      <th>StartTime</th>\n",
       "      <th>EndTime</th>\n",
       "    </tr>\n",
       "  </thead>\n",
       "  <tbody>\n",
       "    <tr>\n",
       "      <th>0</th>\n",
       "      <td>[l]</td>\n",
       "      <td>20</td>\n",
       "      <td>0</td>\n",
       "      <td>1</td>\n",
       "      <td>0.0</td>\n",
       "      <td>-10.528465</td>\n",
       "      <td>20.821217</td>\n",
       "      <td>PSItest_08</td>\n",
       "      <td>a</td>\n",
       "      <td>2022-03-16 08:24:25</td>\n",
       "      <td>2022-03-16 08:34:48.880295</td>\n",
       "    </tr>\n",
       "    <tr>\n",
       "      <th>1</th>\n",
       "      <td>[r]</td>\n",
       "      <td>-43</td>\n",
       "      <td>-13</td>\n",
       "      <td>0</td>\n",
       "      <td>0.0</td>\n",
       "      <td>-7.864294</td>\n",
       "      <td>19.192946</td>\n",
       "      <td>PSItest_08</td>\n",
       "      <td>a</td>\n",
       "      <td>2022-03-16 08:24:25</td>\n",
       "      <td>2022-03-16 08:34:48.880295</td>\n",
       "    </tr>\n",
       "    <tr>\n",
       "      <th>2</th>\n",
       "      <td>[l]</td>\n",
       "      <td>-72</td>\n",
       "      <td>-8</td>\n",
       "      <td>1</td>\n",
       "      <td>0.0</td>\n",
       "      <td>-10.584309</td>\n",
       "      <td>15.296340</td>\n",
       "      <td>PSItest_08</td>\n",
       "      <td>a</td>\n",
       "      <td>2022-03-16 08:24:25</td>\n",
       "      <td>2022-03-16 08:34:48.880295</td>\n",
       "    </tr>\n",
       "    <tr>\n",
       "      <th>3</th>\n",
       "      <td>[l]</td>\n",
       "      <td>-53</td>\n",
       "      <td>-15</td>\n",
       "      <td>1</td>\n",
       "      <td>0.0</td>\n",
       "      <td>-14.477176</td>\n",
       "      <td>17.955442</td>\n",
       "      <td>PSItest_08</td>\n",
       "      <td>a</td>\n",
       "      <td>2022-03-16 08:24:25</td>\n",
       "      <td>2022-03-16 08:34:48.880295</td>\n",
       "    </tr>\n",
       "    <tr>\n",
       "      <th>4</th>\n",
       "      <td>[l]</td>\n",
       "      <td>-98</td>\n",
       "      <td>-22</td>\n",
       "      <td>1</td>\n",
       "      <td>0.0</td>\n",
       "      <td>-19.977956</td>\n",
       "      <td>23.162475</td>\n",
       "      <td>PSItest_08</td>\n",
       "      <td>a</td>\n",
       "      <td>2022-03-16 08:24:25</td>\n",
       "      <td>2022-03-16 08:34:48.880295</td>\n",
       "    </tr>\n",
       "  </tbody>\n",
       "</table>\n",
       "</div>"
      ],
      "text/plain": [
       "  AllResponses  AllStarts  AllStims  BinaryResponses  BslDiff   alpha_EV  \\\n",
       "0          [l]         20         0                1      0.0 -10.528465   \n",
       "1          [r]        -43       -13                0      0.0  -7.864294   \n",
       "2          [l]        -72        -8                1      0.0 -10.584309   \n",
       "3          [l]        -53       -15                1      0.0 -14.477176   \n",
       "4          [l]        -98       -22                1      0.0 -19.977956   \n",
       "\n",
       "     beta_EV         SID Test           StartTime                    EndTime  \n",
       "0  20.821217  PSItest_08    a 2022-03-16 08:24:25 2022-03-16 08:34:48.880295  \n",
       "1  19.192946  PSItest_08    a 2022-03-16 08:24:25 2022-03-16 08:34:48.880295  \n",
       "2  15.296340  PSItest_08    a 2022-03-16 08:24:25 2022-03-16 08:34:48.880295  \n",
       "3  17.955442  PSItest_08    a 2022-03-16 08:24:25 2022-03-16 08:34:48.880295  \n",
       "4  23.162475  PSItest_08    a 2022-03-16 08:24:25 2022-03-16 08:34:48.880295  "
      ]
     },
     "execution_count": 47,
     "metadata": {},
     "output_type": "execute_result"
    }
   ],
   "source": [
    "DF.head()"
   ]
  },
  {
   "cell_type": "code",
   "execution_count": 59,
   "metadata": {},
   "outputs": [
    {
     "name": "stdout",
     "output_type": "stream",
     "text": [
      "[-50. -49. -47. -45. -43. -42. -41. -39. -38. -37. -36. -35. -34. -33.\n",
      " -32. -31. -30. -29. -22. -15. -13.  -8.   0.   2.   3.   4.   5.   7.\n",
      "   8.]\n"
     ]
    },
    {
     "data": {
      "image/png": "[encoded data removed]",
      "text/plain": [
       "<Figure size 432x288 with 1 Axes>"
      ]
     },
     "metadata": {
      "needs_background": "light"
     },
     "output_type": "display_data"
    }
   ],
   "source": [
    "SIDs = pd.unique(DF.SID)\n",
    "x = np.linspace(-50,50,100) #X-axis \n",
    "\n",
    "#initialize parameters\n",
    "alphas = []\n",
    "betas = []\n",
    "for i in range(len(SIDs)):\n",
    "    fig, ax = plt.subplots()\n",
    "\n",
    "    #Index the responses\n",
    "    Responses = DF.BinaryResponses[(DF.SID==SIDs[i])]\n",
    "    \n",
    "    #Index baseline difference\n",
    "    BD_a = round(DF.BslDiff[(DF.SID==SIDs[i]) & (DF.Test=='a')].values[0])\n",
    "    BD_b = round(DF.BslDiff[(DF.SID==SIDs[i]) & (DF.Test=='b')].values[0])\n",
    "    \n",
    "    #Index the stimuli\n",
    "    Stims_a = DF.AllStims[(DF.SID==SIDs[i]) & (DF.Test=='a')] + BD_a\n",
    "    Stims_b = DF.AllStims[(DF.SID==SIDs[i]) & (DF.Test=='a')] + BD_b\n",
    "    \n",
    "    Stims = np.concatenate((Stims_a,Stims_b))\n",
    "    \n",
    "    #Control for repeated stimuli \n",
    "    print(np.unique(Stims))\n",
    "    \n",
    "#     print(Stims)\n",
    "    \n",
    "    \n",
    "\n",
    "#     #index estimates for test 1 and 2\n",
    "#     aEV_a = DF.alpha_EV[(DF.SID==SIDs[i]) & (DF.Test=='a')].values[-1] + BD_a\n",
    "#     bEV_a = DF.beta_EV[(DF.SID==SIDs[i]) & (DF.Test=='a')].values[-1]\n",
    "\n",
    "#     aEV_b = DF.alpha_EV[(DF.SID==SIDs[i]) & (DF.Test=='b')].values[-1] + BD_b\n",
    "#     bEV_b = DF.beta_EV[(DF.SID==SIDs[i]) & (DF.Test=='b')].values[-1]\n",
    "\n",
    "#     #Store the estimates\n",
    "#     alphas.append([aEV_a, aEV_b])\n",
    "#     betas.append([bEV_a, bEV_b])\n",
    "    \n",
    "#     #Calculate the psychometric functions\n",
    "#     psi_a = norm.cdf(x,aEV_a,bEV_a)\n",
    "#     psi_b = norm.cdf(x,aEV_b,bEV_b)\n",
    "\n",
    "#     #Plot\n",
    "#     ax.plot(x,psi_a,label='T1')\n",
    "#     ax.plot(x,psi_b,label='T2')\n",
    "#     ax.legend()\n",
    "#     ax.set(title=SIDs[i],ylabel='p_left',xlabel='Stimulus')    \n",
    "#     plt.show() \n",
    "    \n",
    "# alphas = np.array(alphas)\n",
    "# betas = np.array(betas)"
   ]
  },
  {
   "cell_type": "code",
   "execution_count": null,
   "metadata": {},
   "outputs": [],
   "source": []
  }
 ],
 "metadata": {
  "kernelspec": {
   "display_name": "Python 3",
   "language": "python",
   "name": "python3"
  },
  "language_info": {
   "codemirror_mode": {
    "name": "ipython",
    "version": 3
   },
   "file_extension": ".py",
   "mimetype": "text/x-python",
   "name": "python",
   "nbconvert_exporter": "python",
   "pygments_lexer": "ipython3",
   "version": "3.7.1"
  },
  "toc-autonumbering": false,
  "toc-showcode": false,
  "toc-showmarkdowntxt": false
 },
 "nbformat": 4,
 "nbformat_minor": 4
}
