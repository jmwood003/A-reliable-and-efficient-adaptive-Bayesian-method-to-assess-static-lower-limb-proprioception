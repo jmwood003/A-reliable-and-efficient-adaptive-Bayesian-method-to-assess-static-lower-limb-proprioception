{
 "cells": [
  {
   "cell_type": "code",
   "execution_count": null,
   "id": "9784a6a9-7003-451d-8903-8e7534f14eee",
   "metadata": {},
   "outputs": [],
   "source": [
    "#Import python libs\n",
    "import numpy as np\n",
    "import matplotlib.pyplot as plt\n",
    "import scipy.stats as stats\n",
    "from scipy.stats import expon\n",
    "from scipy.stats import norm\n",
    "from scipy.stats import uniform\n",
    "from numpy.random import random\n",
    "plt.rcParams['text.usetex'] = False\n",
    "plt.rcParams.update({'font.size': 18})"
   ]
  },
  {
   "cell_type": "markdown",
   "id": "78466fb8-52af-4a80-938d-8fdddfdcb39c",
   "metadata": {},
   "source": [
    "# Define functions"
   ]
  },
  {
   "cell_type": "code",
   "execution_count": null,
   "id": "e8bc0938-927d-4696-bd97-e7e799ccc17e",
   "metadata": {},
   "outputs": [],
   "source": [
    "def PSI_sim(a_range, b_range):\n",
    "      \n",
    "    for s in range(Nsubjs):\n",
    "        \n",
    "        #Set the priors\n",
    "        p_alpha = norm.pdf(a_range,0,40)\n",
    "        p_beta = expon.pdf(b_range,0,20)\n",
    "        p_alpha = np.reshape(p_alpha,(len(p_alpha),1))\n",
    "        p_beta = np.reshape(p_beta,(len(p_beta),1))\n",
    "        Prior = p_alpha @ p_beta.T\n",
    "        Prior = Prior/np.nansum(np.nansum(Prior))\n",
    "\n",
    "        #Set the parameters\n",
    "        alpha_sim = norm.rvs(0,20)\n",
    "        beta_sim = expon.rvs(0,20)\n",
    "        params = [alpha_sim, beta_sim, 0.02, 0.02]\n",
    "        \n",
    "        Sim_alphas = np.append(Sim_alphas, alpha_sim)\n",
    "        Sim_betas = np.append(Sim_betas, beta_sim)\n",
    "    \n",
    "        #Stimulate\n",
    "        alpha_EV, beta_EV, _, _, _ = PSIsim(n, params, X, a_range, b_range, Prior, p_left_look, p_right_look)\n",
    "        \n",
    "        Est_alphas = np.append(Est_alphas, alpha_EV[-1])\n",
    "        Est_betas = np.append(Est_betas, beta_EV[-1])\n",
    "\n",
    "    #Calculate CCC\n",
    "    CCC_alpha = np.append(CCC_alpha, calc_CCC(Sim_alphas,Est_alphas))\n",
    "    CCC_beta = np.append(CCC_beta, calc_CCC(Sim_betas,Est_betas))\n",
    "\n",
    "    print('Alpha CCC = ', str(round(CCC_alpha[i],2)))\n",
    "    print('Beta CCC = ', str(round(CCC_beta[i],2)))\n",
    "\n",
    "    #Plot\n",
    "    fig, ax = plt.subplots(1,2,figsize=(10,4), tight_layout=False)\n",
    "    ax[0].plot(Sim_alphas,Est_alphas,'o')\n",
    "    ax[0].plot(a_range,a_range,'k--')\n",
    "    ax[0].set(xlim=(-100, 100),ylim=(-100,100),xlabel='Simulated',ylabel='Estimated',title='Alpha')\n",
    "    ax[1].plot(Sim_betas,Est_betas,'o')\n",
    "    ax[1].plot(b_range,b_range,'k--')\n",
    "    ax[1].set(xlim=(0, 100), ylim=(0,100),xlabel='Simulated',title='Beta')\n",
    "    plt.show()"
   ]
  }
 ],
 "metadata": {
  "kernelspec": {
   "display_name": "Python 3 (ipykernel)",
   "language": "python",
   "name": "python3"
  },
  "language_info": {
   "codemirror_mode": {
    "name": "ipython",
    "version": 3
   },
   "file_extension": ".py",
   "mimetype": "text/x-python",
   "name": "python",
   "nbconvert_exporter": "python",
   "pygments_lexer": "ipython3",
   "version": "3.9.7"
  }
 },
 "nbformat": 4,
 "nbformat_minor": 5
}
