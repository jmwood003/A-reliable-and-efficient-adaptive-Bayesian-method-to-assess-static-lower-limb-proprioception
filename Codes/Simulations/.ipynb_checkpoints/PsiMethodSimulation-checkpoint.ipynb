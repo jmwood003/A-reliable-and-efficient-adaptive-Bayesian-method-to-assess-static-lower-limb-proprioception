{
 "cells": [
  {
   "cell_type": "markdown",
   "metadata": {},
   "source": [
    "# Psi method simulation \n",
    "\n",
    "## Explination\n",
    "\n",
    "The Psi method is an adaptive method to estimate the threshold and slope of a psychometric function using Bayesian estimation. Most of the concepts in this notebook is taken from Kontesevich and Tyler 1997 from Vision Research. \n",
    "\n",
    "The threshold of the psychometric function, denoted by $\\alpha$, is the inflection point of the function, or the point at wich the response is 50/50 (in this specific case). It represents the bias in the estimates. The slope, denoted by $\\beta$, reflects the uncertainty in the estimate.\n",
    "\n",
    "The Psi method is an adaptive method in that the next stimulus is selected based on the previous response(s). This is in constrast to the method of constant stimuli which provides the same stimuli a pre-set number of times. Adaptive methods need to address three main considerations:\n",
    "1. Estimate of psychometric parameters\n",
    "2. The termination rule\n",
    "3. Placement of the next trial"
   ]
  },
  {
   "cell_type": "markdown",
   "metadata": {},
   "source": [
    "1. Estimate the psychometric parameters ($\\alpha$ and $\\beta$) \n",
    "\n",
    "    The most efficient way to obtain these estimates is to use Bayesian estimation. First, we define the 2-d prior by making an initial guess for each of the parameters:\n",
    "    $$ p(\\alpha, \\beta)$$\n",
    "    Then, after the response, $r$, we calculate the probability of all prior responses, given each set of parameter values:\n",
    "    $$ p(r | \\alpha, \\beta)$$\n",
    "    Multiplying these distributions together yields the posterior distribution of all possible parameter values:\n",
    "    $$ p(\\alpha, \\beta | r)$$\n",
    "\n",
    "    The mean of this distribution is the best estimate of the parameters because it minimizes the variance of the threshold and is more stable than using the maximum a posteri. \n",
    "\n",
    "    The posterior then becomes the prior for the next trial, and the process repeats until the test is terminated. "
   ]
  },
  {
   "cell_type": "markdown",
   "metadata": {},
   "source": [
    "2. Termination rule\n",
    "\n",
    "    There are several different options, for simplicity, we plan on stopping after a certain number of trials"
   ]
  },
  {
   "cell_type": "markdown",
   "metadata": {},
   "source": [
    "3. Placement of the next trial\n",
    "\n",
    "    This is where the psi algorithm really does its work. To estimate threshold the most optimal location for the next stimulus is at the current threshold estimate, for the slope, it is slightly above and below the stimulus (in general). But, what specific stimulus should be chosen? Before each trial, the Psi algorithm simulates over every possible stimulus location ($x$) for the next trial, calculating the posterior distribution for each stimulus location for both possible responses. Then, it calculates the Information Entropy ($H$) for each stimulus location ($H(x)$). The next stimulus is the one that minimizes the entropy\" $\\underset{x}{argmin}(H(x))$"
   ]
  },
  {
   "cell_type": "markdown",
   "metadata": {},
   "source": [
    "## Code\n",
    "\n",
    "First, we need to define a look-up table to speed up the method. This look-up table contains conditional probabilities of both possible responses given the parameter values and the stimulus location:\n",
    "\n",
    "$$p(r| \\alpha,\\beta,x)$$\n",
    "\n",
    "This probability is defined by:\n",
    "\n",
    "$$p(r=left | \\alpha,\\beta,x) = \\Psi_{\\alpha,\\beta}(x)$$ \n",
    "and\n",
    "$$p(r=right | \\alpha,\\beta,x) = 1-\\Psi_{\\alpha,\\beta}(x)$$ "
   ]
  },
  {
   "cell_type": "code",
   "execution_count": 11,
   "metadata": {},
   "outputs": [],
   "source": [
    "#Import python notebooks\n",
    "import numpy as np\n",
    "import matplotlib.pyplot as plt\n",
    "from scipy.stats import norm"
   ]
  },
  {
   "cell_type": "code",
   "execution_count": 16,
   "metadata": {},
   "outputs": [],
   "source": [
    "def Psi_lookT(X,a_range,b_range):\n",
    "    g = 0.02\n",
    "    L = 0.02\n",
    "    \n",
    "    p_left_look = np.empty([len(b_range),len(a_range),(len(X))])\n",
    "    p_right_look = np.empty([len(b_range),len(a_range),(len(X))])\n",
    "    for x in X:\n",
    "        for a in a_range:\n",
    "            for b in b_range:\n",
    "                psi = g + (1 - g - L) * norm.cdf(x,a,b)\n",
    "                p_left_look[b,a,x] = psi\n",
    "                p_right_look[b,a,x] = 1-psi\n",
    "\n",
    "    return p_left_look, p_right_look"
   ]
  },
  {
   "cell_type": "code",
   "execution_count": 17,
   "metadata": {},
   "outputs": [
    {
     "name": "stderr",
     "output_type": "stream",
     "text": [
      "C:\\Users\\Jonathan\\Anaconda3\\lib\\site-packages\\scipy\\stats\\_distn_infrastructure.py:1735: RuntimeWarning: invalid value encountered in long_scalars\n",
      "  x = np.asarray((x - loc)/scale, dtype=dtyp)\n",
      "C:\\Users\\Jonathan\\Anaconda3\\lib\\site-packages\\scipy\\stats\\_distn_infrastructure.py:879: RuntimeWarning: invalid value encountered in greater\n",
      "  return (self.a < x) & (x < self.b)\n",
      "C:\\Users\\Jonathan\\Anaconda3\\lib\\site-packages\\scipy\\stats\\_distn_infrastructure.py:879: RuntimeWarning: invalid value encountered in less\n",
      "  return (self.a < x) & (x < self.b)\n",
      "C:\\Users\\Jonathan\\Anaconda3\\lib\\site-packages\\scipy\\stats\\_distn_infrastructure.py:1738: RuntimeWarning: invalid value encountered in greater_equal\n",
      "  cond2 = (x >= self.b) & cond0\n",
      "C:\\Users\\Jonathan\\Anaconda3\\lib\\site-packages\\scipy\\stats\\_distn_infrastructure.py:1735: RuntimeWarning: divide by zero encountered in long_scalars\n",
      "  x = np.asarray((x - loc)/scale, dtype=dtyp)\n"
     ]
    }
   ],
   "source": [
    "#Define the stimulus range\n",
    "X = np.arange(-50,51)\n",
    "a_range = np.arange(-50,51)\n",
    "b_range = np.arange(0,101)\n",
    "\n",
    "p_left_look, p_right_look = Psi_lookT(X,a_range,b_range)"
   ]
  },
  {
   "cell_type": "code",
   "execution_count": null,
   "metadata": {},
   "outputs": [],
   "source": []
  },
  {
   "cell_type": "code",
   "execution_count": null,
   "metadata": {},
   "outputs": [],
   "source": []
  }
 ],
 "metadata": {
  "kernelspec": {
   "display_name": "Python 3",
   "language": "python",
   "name": "python3"
  },
  "language_info": {
   "codemirror_mode": {
    "name": "ipython",
    "version": 3
   },
   "file_extension": ".py",
   "mimetype": "text/x-python",
   "name": "python",
   "nbconvert_exporter": "python",
   "pygments_lexer": "ipython3",
   "version": "3.7.1"
  }
 },
 "nbformat": 4,
 "nbformat_minor": 4
}
