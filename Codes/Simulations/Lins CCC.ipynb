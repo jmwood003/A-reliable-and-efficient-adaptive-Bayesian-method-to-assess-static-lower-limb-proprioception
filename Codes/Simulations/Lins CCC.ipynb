{
 "cells": [
  {
   "cell_type": "markdown",
   "metadata": {},
   "source": [
    "# Reliability and agreement\n",
    "\n",
    "First, lets talk about reliability and agreement. These are two different psychometric properties. These definitions and discussion are from the Guidelines for Reporting Reliability and Agreement Studies (GRRAS) by Kottner et al., 2011 with an assist from Berchtold, 2016. \n",
    "\n",
    "**Reliability:** The capacity of a test or any other measurement tool to differentiate between respondents when measured twice under the same conditions. In other words, reliability is the capacity of a test to replicate the same ordering between resondents when measured twice.\n",
    "\n",
    "**Agreement:** The capacity of a test or any other measurement tool applied twice on the same respondents under the same conditions to provide strictly identical results. \n",
    "\n",
    "Thus, reliability is a requirement for agreement. Another note, correlation and difference between means are both necessary for agreement but not sufficenet.\n",
    "\n",
    "We would love our measurement tool to meet the standards for agreement. To demonstrate agreement, it is mandatory to show that values measured on two successive occasions are equal at the individual level for each respondent. Methods of assessing agreement:\n",
    "\n",
    "1. Bland-Altman method\n",
    "    - Relating the mean of successive measurements to the corresponding standard deviation. Any trend in this relation will indicate non-stable behavior for the measurement over time. The Bland-Altman plot is also known as the limits of agreement plot\n",
    "2. Concordance correlation coefficient (CCC)\n",
    "    - Measures the difference from the unity line. Sometimes called Lins CCC.\n",
    "3. Intraclass correlation coefficient (ICC)\n",
    "    - Accoding to Nickerson (1997), this method is very similar to Lins CCC. There are several difference ICC equations, the basic form is:\n",
    "    \n",
    "    $$ ICC = \\dfrac{\\sigma^2_b}{\\sigma^2_b + \\sigma^2_w}$$\n",
    "    \n",
    "    - $\\sigma^2_b$ is the between group variance of the two successive sets of measurements\n",
    "    - $\\sigma^2_w$ is the within group variance \n",
    "    - Thus, ICC is the percentage of total variance being explained by the decomposition of the data into two groups. \n",
    "    - ICCs can be used when the order of the two measurements are unimportant, which is not the case in test retest analysis since there is a clear temporal order of measurements.\n",
    "    - There are two ICC questions that can be used for non-commutable measurements developed by McGraw and Wong (1996) "
   ]
  },
  {
   "attachments": {
    "ab2b8127-023f-4459-8504-a80726edef46.png": {
     "image/png": "[encoded data removed]"
    }
   },
   "cell_type": "markdown",
   "metadata": {},
   "source": [
    "***\n",
    "*** \n",
    "\n",
    "# Concordance correlation coefficient \n",
    "\n",
    "This measure is the most intuitive measure of agreement and is pretty simple to implement. McBride (2005) offers some guidance for the values of agreement when using the CCC: \n",
    "\n",
    "![image.png](attachment:ab2b8127-023f-4459-8504-a80726edef46.png)\n",
    "\n",
    "The CCC ($\\rho_c$) is calcualted as:\n",
    "\n",
    "$ \\rho_c = \\dfrac{2\\sigma_{12}}{\\sigma^2_1 + \\sigma^2_2 + (\\mu_1 - \\mu_2)^2} $"
   ]
  },
  {
   "cell_type": "markdown",
   "metadata": {},
   "source": [
    "## Derivation\n",
    "\n",
    "Assume we have a pair of samples $(X_i, Y_i)$ that are independently selected from a bivariate population. The degree of concordance (agreement) between X and Y can be characterized by the expected value of their squared difference. The difference between the two measurements represents the distance from the (horizontal or vertical) distance from the 45 degree line. Squaring the distance makes everything postiive. \n",
    "\n",
    "Why Expected value? \n",
    "\n",
    "Thus, perfect agreement between the two samples = 0, further distance from \n",
    "\n",
    "\n"
   ]
  },
  {
   "cell_type": "markdown",
   "metadata": {},
   "source": [
    "# Demo"
   ]
  },
  {
   "cell_type": "markdown",
   "metadata": {},
   "source": [
    "## Import Libraries"
   ]
  },
  {
   "cell_type": "code",
   "execution_count": 2,
   "metadata": {},
   "outputs": [],
   "source": [
    "import numpy as np\n",
    "import matplotlib.pyplot as plt\n",
    "plt.rcParams.update({'font.size': 16})\n",
    "from ipywidgets import interact, interactive, fixed, interact_manual\n",
    "import ipywidgets as widgets\n",
    "from scipy.stats import norm\n",
    "from scipy.stats import pearsonr"
   ]
  },
  {
   "cell_type": "markdown",
   "metadata": {},
   "source": [
    "## Widget"
   ]
  },
  {
   "cell_type": "code",
   "execution_count": 3,
   "metadata": {},
   "outputs": [
    {
     "data": {
      "application/vnd.jupyter.widget-view+json": {
       "model_id": "b5aa3492e5524f45a9191c680af9f26d",
       "version_major": 2,
       "version_minor": 0
      },
      "text/plain": [
       "interactive(children=(IntSlider(value=0, description='M1', max=50, min=-50, step=5), IntSlider(value=5, descri…"
      ]
     },
     "metadata": {},
     "output_type": "display_data"
    }
   ],
   "source": [
    "def CCCsim(M1=0,M2=5,C=0.5):\n",
    "    \n",
    "    D = np.random.multivariate_normal([M1,M2], [[1,C],[C,1]], size=1000)\n",
    "    D1 = D[:,0]\n",
    "    D2 = D[:,1]\n",
    "\n",
    "    val = np.max(abs(D))\n",
    "    U = np.linspace(-val,val)\n",
    "\n",
    "    #calculate the CCC\n",
    "    var1 = np.var(D1)\n",
    "    var2 = np.var(D2)\n",
    "    mu1 = np.mean(D1)\n",
    "    mu2 = np.mean(D2)\n",
    "    rho, _ = pearsonr(D1,D2)\n",
    "\n",
    "    CCC = (2*rho*var1*var2) / (var1+var2 + (mu1-mu2)**2)\n",
    "    \n",
    "    print('num = ', str(2*rho*var1*var2))\n",
    "    print('denom = ', str((var1+var2 + (mu1-mu2)**2)))\n",
    "    print('CCC = ', str(round(CCC,2)))\n",
    "    print('Pearsons rho = ', str(round(rho,2)))\n",
    "\n",
    "    plt.figure()\n",
    "    plt.plot(D1,D2,'.')\n",
    "    plt.plot(U,U,'k')\n",
    "    plt.xlim(-val,val)\n",
    "    plt.ylim(-val,val)\n",
    "    plt.show()\n",
    "    \n",
    "_ = widgets.interact(CCCsim, M1=(-50, 50, 5),M2=(-50, 50, 5),C=(-1,1,0.1))   "
   ]
  },
  {
   "cell_type": "code",
   "execution_count": null,
   "metadata": {},
   "outputs": [],
   "source": []
  },
  {
   "cell_type": "code",
   "execution_count": 3,
   "metadata": {},
   "outputs": [
    {
     "ename": "NameError",
     "evalue": "name 'y_prime' is not defined",
     "output_type": "error",
     "traceback": [
      "\u001b[1;31m---------------------------------------------------------------------------\u001b[0m",
      "\u001b[1;31mNameError\u001b[0m                                 Traceback (most recent call last)",
      "\u001b[1;32m~\\AppData\\Local\\Temp/ipykernel_21964/2719469424.py\u001b[0m in \u001b[0;36m<module>\u001b[1;34m\u001b[0m\n\u001b[0;32m      9\u001b[0m \u001b[1;33m\u001b[0m\u001b[0m\n\u001b[0;32m     10\u001b[0m \u001b[1;33m\u001b[0m\u001b[0m\n\u001b[1;32m---> 11\u001b[1;33m \u001b[0mprint\u001b[0m\u001b[1;33m(\u001b[0m\u001b[0mnp\u001b[0m\u001b[1;33m.\u001b[0m\u001b[0mmean\u001b[0m\u001b[1;33m(\u001b[0m\u001b[0my\u001b[0m\u001b[1;33m-\u001b[0m\u001b[0my_prime\u001b[0m\u001b[1;33m)\u001b[0m\u001b[1;33m)\u001b[0m\u001b[1;33m\u001b[0m\u001b[1;33m\u001b[0m\u001b[0m\n\u001b[0m\u001b[0;32m     12\u001b[0m \u001b[1;33m\u001b[0m\u001b[0m\n\u001b[0;32m     13\u001b[0m \u001b[0mplt\u001b[0m\u001b[1;33m.\u001b[0m\u001b[0mplot\u001b[0m\u001b[1;33m(\u001b[0m\u001b[0mD\u001b[0m\u001b[1;33m[\u001b[0m\u001b[1;33m:\u001b[0m\u001b[1;33m,\u001b[0m\u001b[1;36m0\u001b[0m\u001b[1;33m]\u001b[0m\u001b[1;33m,\u001b[0m\u001b[0mD\u001b[0m\u001b[1;33m[\u001b[0m\u001b[1;33m:\u001b[0m\u001b[1;33m,\u001b[0m\u001b[1;36m1\u001b[0m\u001b[1;33m]\u001b[0m\u001b[1;33m,\u001b[0m\u001b[1;34m'.'\u001b[0m\u001b[1;33m)\u001b[0m\u001b[1;33m\u001b[0m\u001b[1;33m\u001b[0m\u001b[0m\n",
      "\u001b[1;31mNameError\u001b[0m: name 'y_prime' is not defined"
     ]
    }
   ],
   "source": [
    "x = np.linspace(-10,10)\n",
    "y = np.linspace(-10,10)\n",
    "M1=0\n",
    "M2=5\n",
    "C=0.5\n",
    "D = np.random.multivariate_normal([M1,M2], [[1,C],[C,1]], size=len(x))\n",
    "\n",
    "x = D[:,1]\n",
    "\n",
    "\n",
    "print(np.mean(y-y_prime))\n",
    "\n",
    "plt.plot(D[:,0],D[:,1],'.')\n",
    "# plt.plot(x,y,'k')\n",
    "plt.show()"
   ]
  },
  {
   "cell_type": "code",
   "execution_count": null,
   "metadata": {},
   "outputs": [],
   "source": []
  },
  {
   "cell_type": "code",
   "execution_count": null,
   "metadata": {},
   "outputs": [],
   "source": []
  }
 ],
 "metadata": {
  "kernelspec": {
   "display_name": "Python 3 (ipykernel)",
   "language": "python",
   "name": "python3"
  },
  "language_info": {
   "codemirror_mode": {
    "name": "ipython",
    "version": 3
   },
   "file_extension": ".py",
   "mimetype": "text/x-python",
   "name": "python",
   "nbconvert_exporter": "python",
   "pygments_lexer": "ipython3",
   "version": "3.9.7"
  }
 },
 "nbformat": 4,
 "nbformat_minor": 4
}
